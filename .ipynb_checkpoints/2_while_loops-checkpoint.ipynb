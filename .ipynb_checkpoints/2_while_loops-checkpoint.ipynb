{
 "cells": [
  {
   "cell_type": "markdown",
   "metadata": {},
   "source": [
    "# Iteration - Chapter 5"
   ]
  },
  {
   "cell_type": "markdown",
   "metadata": {},
   "source": [
    "## 5.2 While Loops\n",
    "\n",
    "A *while-loop* repeats (or iterates), but only stops when a condition is met, so a *while* loop runs an *indefinite* number of times. Here is an example:"
   ]
  },
  {
   "cell_type": "code",
   "execution_count": 33,
   "metadata": {},
   "outputs": [
    {
     "name": "stdout",
     "output_type": "stream",
     "text": [
      "10100100001\n"
     ]
    }
   ],
   "source": [
    "#convert integral decimal number to binary\n",
    "decimal = 1313\n",
    "binary = \"\" \n",
    "while decimal != 0:\n",
    "    binary = str(decimal%2)+binary     #This is building the list from right to left (just like the binary conversion process)\n",
    "    decimal = decimal//2               #integer division\n",
    "print(binary)"
   ]
  },
  {
   "cell_type": "markdown",
   "metadata": {},
   "source": [
    "In the next two examples we will try to find the solution of the equation:\n",
    "\n",
    "$ \\large f(x) = \\arctan{x} - \\frac{\\pi}{4}  = 0$"
   ]
  },
  {
   "cell_type": "code",
   "execution_count": 34,
   "metadata": {},
   "outputs": [
    {
     "name": "stdout",
     "output_type": "stream",
     "text": [
      "f(x)=3.3306690738754696e-16 at x=1.00000000e+00.\n",
      "\n"
     ]
    }
   ],
   "source": [
    "from math import *\n",
    "import numpy as np\n",
    "#find where f(x) = atan(x) - pi/4 = 0 (approximately)\n",
    "#Plug in x values until we are pretty close to satisfying the equation\n",
    "f = lambda x: atan(x) - pi/4        #when a function is just one line, might as well use a lambda function\n",
    "tol = 1e-7      #How close we should be to 0 before we stop searching\n",
    "deltax = 1e-3   #This is the spacing we will use to do the search\n",
    "x = 0           #This is our starting value for searching\n",
    "while abs(f(x)) > tol:\n",
    "    x+=deltax\n",
    "    \n",
    "print(f\"f(x)={f(x)} at x={x:.8e}.\\n\")"
   ]
  },
  {
   "cell_type": "markdown",
   "metadata": {},
   "source": [
    "It might be nice to know how many times the while loop executed... so we need to introduce a counter to do this."
   ]
  },
  {
   "cell_type": "code",
   "execution_count": 25,
   "metadata": {},
   "outputs": [
    {
     "name": "stdout",
     "output_type": "stream",
     "text": [
      "f(x)=-0.7853981633974483 at x=0.00000000e+00, which took 0 iterations to find.\n",
      "\n"
     ]
    }
   ],
   "source": [
    "#find where f(x) = atan(x) - pi/4 = 0 (approximately)\n",
    "#Plug in x values until we are pretty close to satisfying the equation\n",
    "f = lambda x: atan(x) - pi/4        #when a function is just one line, might as well use a lambda function\n",
    "tol = 1e-6      #How close we should be to 0 before we stop searching\n",
    "deltax = 1e-3       #This is the spacing we will use to do the search\n",
    "x = 0           #This is our starting value for searching\n",
    "counter = 0\n",
    "while abs(f(x)) < tol:\n",
    "    x+=deltax\n",
    "    counter+=1\n",
    "\n",
    "print(f\"f(x)={f(x)} at x={x:.8e}, which took {counter} iterations to find.\\n\")"
   ]
  },
  {
   "cell_type": "markdown",
   "metadata": {},
   "source": [
    "We will now redo our last example from the notebook about *for* loops:\n",
    "\n",
    "$ \\large \\sum_{i=0}^{\\infty} \\frac{1}{i!} $ \n",
    "\n",
    "The pattern of this while loop will become pretty familiar this semester for iterative processes that stop when a certain condition is met."
   ]
  },
  {
   "cell_type": "code",
   "execution_count": 14,
   "metadata": {},
   "outputs": [
    {
     "name": "stdout",
     "output_type": "stream",
     "text": [
      "The sum = 2.71828180e+00 after a total of 11 iterations and a final term value of 0.00000028.\n",
      "\n"
     ]
    }
   ],
   "source": [
    "counter = 0\n",
    "min_term = 1e-6        #let's stop adding if the term is less than this\n",
    "summ = 0\n",
    "term = 1.1*min_term    #we can't have term be smaller than min_term to start with\n",
    "while term > min_term:\n",
    "    term = 1/factorial(counter)\n",
    "    summ+=term\n",
    "    counter+=1         # in a for loop we don't always need a counter\n",
    "\n",
    "print(f\"The sum = {summ:.8e} after a total of {counter} iterations and a final term value of {term:.8f}.\\n\")    "
   ]
  },
  {
   "cell_type": "markdown",
   "metadata": {},
   "source": [
    "To make the example above exactly like the similar *for* loop example, we need a way to stop the loop if a maximum number of iterations has been reached. See below:"
   ]
  },
  {
   "cell_type": "code",
   "execution_count": 8,
   "metadata": {},
   "outputs": [
    {
     "name": "stdout",
     "output_type": "stream",
     "text": [
      "The sum = 2.71828153e+00 after a total of 10 iterations and a final term value of 0.00000276.\n",
      "\n"
     ]
    }
   ],
   "source": [
    "counter = 0\n",
    "min_term = 1e-6        #let's stop adding if the term is less than this\n",
    "summ = 0\n",
    "term = 1.1*min_term    #we can't have term be smaller than min_term to start with\n",
    "max_iterations = 10\n",
    "while term > min_term and counter < max_iterations:        #just need more logic in the while conditional statement\n",
    "    term = 1/factorial(counter)\n",
    "    summ+=term\n",
    "    counter+=1         # in a for loop we don't always need a counter\n",
    "\n",
    "print(f\"The sum = {summ:.8e} after a total of {counter} iterations and a final term value of {term:.8f}.\\n\")    "
   ]
  },
  {
   "cell_type": "markdown",
   "metadata": {},
   "source": [
    "## Comprehensions\n",
    "\n",
    "Comprehensions provide a way to write a loop in a shorthand notation. Some coding activities that use loops are very common, so Python has a way to do them quickly in one line of code. The syntax is:\n",
    "\n",
    "*[output input_sequence conditions]*\n",
    "\n",
    "The next example is a case where you have one list but you need a new list with the items from the first list used as a function argument. First we will do this the traditional way, then as a comprehension."
   ]
  },
  {
   "cell_type": "code",
   "execution_count": 37,
   "metadata": {},
   "outputs": [
    {
     "name": "stdout",
     "output_type": "stream",
     "text": [
      "[0.1, 0.2, 0.3, 0.4, 0.5] \n",
      " [0.09983341664682815, 0.19866933079506122, 0.29552020666133955, 0.3894183423086505, 0.479425538604203]\n"
     ]
    }
   ],
   "source": [
    "#The regular way to do this\n",
    "x = [0.1,0.2,0.3,0.4,0.5]\n",
    "y=[]         #Let's get the sin(x)  \n",
    "for num in x:\n",
    "    y.append(sin(num))\n",
    "print(x,'\\n',y)\n"
   ]
  },
  {
   "cell_type": "code",
   "execution_count": 38,
   "metadata": {},
   "outputs": [
    {
     "name": "stdout",
     "output_type": "stream",
     "text": [
      "[0.1, 0.2, 0.3, 0.4, 0.5] \n",
      " [0.09983341664682815, 0.19866933079506122, 0.29552020666133955, 0.3894183423086505, 0.479425538604203]\n"
     ]
    }
   ],
   "source": [
    "#Using a list comprehension\n",
    "x = [0.1,0.2,0.3,0.4,0.5]\n",
    "y = [sin(num) for num in x]   #Here is the list comprehension - it is doing the for loop in one easy line\n",
    "print(x,'\\n',y)"
   ]
  },
  {
   "cell_type": "code",
   "execution_count": null,
   "metadata": {},
   "outputs": [],
   "source": []
  }
 ],
 "metadata": {
  "kernelspec": {
   "display_name": "Python 3",
   "language": "python",
   "name": "python3"
  },
  "language_info": {
   "codemirror_mode": {
    "name": "ipython",
    "version": 3
   },
   "file_extension": ".py",
   "mimetype": "text/x-python",
   "name": "python",
   "nbconvert_exporter": "python",
   "pygments_lexer": "ipython3",
   "version": "3.7.4"
  }
 },
 "nbformat": 4,
 "nbformat_minor": 4
}
