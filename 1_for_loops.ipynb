{
 "cells": [
  {
   "cell_type": "markdown",
   "metadata": {},
   "source": [
    "# Iteration - Chapter 5"
   ]
  },
  {
   "cell_type": "markdown",
   "metadata": {},
   "source": [
    "## 5.1 For Loops\n",
    "\n",
    "A *for-loop* repeats (or iterates) for every value in a sequence - a *definite* number of times (with the exception of a break from the loop).\n"
   ]
  },
  {
   "cell_type": "code",
   "execution_count": 1,
   "metadata": {},
   "outputs": [
    {
     "name": "stdout",
     "output_type": "stream",
     "text": [
      "theta (rad)\tsin(theta)\n",
      "\n",
      "0.0000\t\t0.0000\n",
      "\n",
      "0.3142\t\t0.3090\n",
      "\n",
      "0.6283\t\t0.5878\n",
      "\n",
      "0.9425\t\t0.8090\n",
      "\n",
      "1.2566\t\t0.9511\n",
      "\n",
      "1.5708\t\t1.0000\n",
      "\n"
     ]
    }
   ],
   "source": [
    "from math import *\n",
    "import numpy as np\n",
    "angles = np.linspace(0,pi/2,6)\n",
    "print(f\"theta (rad)\\tsin(theta)\\n\")\n",
    "for angle in angles:\n",
    "    print(f\"{angle:.4f}\\t\\t{sin(angle):.4f}\\n\")"
   ]
  },
  {
   "cell_type": "code",
   "execution_count": 2,
   "metadata": {},
   "outputs": [
    {
     "name": "stdout",
     "output_type": "stream",
     "text": [
      "2.7182818284590455\n"
     ]
    }
   ],
   "source": [
    "summ = 0\n",
    "terms = 20       #As you add terms to the summation will get closer to e\n",
    "for i in range(0,terms):\n",
    "    summ += 1/factorial(i)\n",
    "print(summ)"
   ]
  },
  {
   "cell_type": "code",
   "execution_count": 3,
   "metadata": {},
   "outputs": [
    {
     "name": "stdout",
     "output_type": "stream",
     "text": [
      "i\tsumm\n",
      "\n",
      "0\t1.2000\n",
      "\n",
      "2\t6.8000\n",
      "\n",
      "4\t15.9000\n",
      "\n",
      "i\tsumm\n",
      "\n",
      "1\t3.4000\n",
      "\n",
      "3\t11.2000\n",
      "\n",
      "5\t21.4000\n",
      "\n"
     ]
    }
   ],
   "source": [
    "a = [1.2, 3.4, 5.6, 7.8, 9.1, 10.2]\n",
    "\n",
    "summ = 0\n",
    "print(f\"i\\tsumm\\n\")\n",
    "for i in range(0,len(a),2):     #step size of 2 for i...add terms with indexes: 0,2,4\n",
    "    summ+= a[i]\n",
    "    print(f\"{i}\\t{summ:.4f}\\n\")\n",
    "\n",
    "    \n",
    "summ = 0     #need to reset!\n",
    "print(f\"i\\tsumm\\n\")\n",
    "for i in range(1,len(a),2):     #step size of 2 for i...add terms with indexes: 1,3,5\n",
    "    summ+= a[i]\n",
    "    print(f\"{i}\\t{summ:.4f}\\n\")"
   ]
  },
  {
   "cell_type": "markdown",
   "metadata": {},
   "source": [
    "### Handy zipping and multiple loop variables"
   ]
  },
  {
   "cell_type": "code",
   "execution_count": 4,
   "metadata": {},
   "outputs": [
    {
     "name": "stdout",
     "output_type": "stream",
     "text": [
      "This 1.1\n",
      "is 2.2\n",
      "pretty 3.3\n",
      "cool 4.4\n"
     ]
    }
   ],
   "source": [
    "a = [\"This\", \"is\", \"pretty\", \"cool\"]\n",
    "b = [1.1, 2.2, 3.3, 4.4]\n",
    "\n",
    "for i,j in zip(a,b):\n",
    "    print(i,j)\n"
   ]
  },
  {
   "cell_type": "markdown",
   "metadata": {},
   "source": [
    "### Using a *break* statement\n",
    "In the event you need to break out of a loop if a condition is met you can use a *break* statement.\n"
   ]
  },
  {
   "cell_type": "code",
   "execution_count": 5,
   "metadata": {},
   "outputs": [
    {
     "name": "stdout",
     "output_type": "stream",
     "text": [
      "1\n",
      "1\n",
      "0\n"
     ]
    }
   ],
   "source": [
    "bits = [1, 1, 0, 1, 1, 0]\n",
    "\n",
    "for bit in bits:\n",
    "    print(bit)\n",
    "    if bit == 0:\n",
    "        break        #get out of the loop if you encounter a zero\n"
   ]
  },
  {
   "cell_type": "markdown",
   "metadata": {},
   "source": [
    "### Nested *for* loops\n",
    "In the first example we set a number of rows and columns and just display a row number and a column number."
   ]
  },
  {
   "cell_type": "code",
   "execution_count": 6,
   "metadata": {},
   "outputs": [
    {
     "name": "stdout",
     "output_type": "stream",
     "text": [
      "row number = 0 col number = 0\n",
      "row number = 0 col number = 1\n",
      "row number = 1 col number = 0\n",
      "row number = 1 col number = 1\n",
      "row number = 2 col number = 0\n",
      "row number = 2 col number = 1\n"
     ]
    }
   ],
   "source": [
    "rows = 3\n",
    "cols = 2\n",
    "for i in range(0,rows):\n",
    "    for j in range(0,cols):\n",
    "        print(f\"row number = {i} col number = {j}\")"
   ]
  },
  {
   "cell_type": "markdown",
   "metadata": {},
   "source": [
    "In the next example we do the following summation for a matrix *x*:\n",
    "\n",
    "$ \\large \\sum_{i=1}^{m} \\sum_{j=1}^{n} x_{i,j} $"
   ]
  },
  {
   "cell_type": "code",
   "execution_count": 7,
   "metadata": {},
   "outputs": [
    {
     "name": "stdout",
     "output_type": "stream",
     "text": [
      "The sum of the elements in the matrix\n",
      "\n",
      "[[1 2]\n",
      " [3 4]\n",
      " [5 6]]\n",
      "\n",
      " is 21.\n",
      "\n"
     ]
    }
   ],
   "source": [
    "x = np.array([[1,2],[3,4],[5,6]])\n",
    "rows, cols = x.shape\n",
    "summ = 0\n",
    "for i in range(0,rows):\n",
    "    for j in range(0,cols):\n",
    "        summ+=x[i][j]\n",
    "print(f\"The sum of the elements in the matrix\\n\\n{x}\\n\\n is {summ}.\\n\")    "
   ]
  },
  {
   "cell_type": "markdown",
   "metadata": {},
   "source": [
    "In this example we find the result of matrix multiplication of two matrices as\n",
    "\n",
    "$ [c] = \\begin{bmatrix} a_{00} & a_{01} & a_{02} \\\\ a_{10} & a_{11} & a_{12} \\end{bmatrix} \\begin{bmatrix} b_{00} & b_{01} \\\\ b_{10} & b_{11} \\\\ b_{20} & b_{21} \\end{bmatrix} $\n",
    "\n",
    "This requires three loops! The details on how to do this algorithm will be explained later."
   ]
  },
  {
   "cell_type": "code",
   "execution_count": 8,
   "metadata": {},
   "outputs": [
    {
     "name": "stdout",
     "output_type": "stream",
     "text": [
      "[[0 1 0]\n",
      " [1 0 1]]\n",
      "x\n",
      "[[0 1]\n",
      " [1 0]\n",
      " [1 1]]\n",
      "=\n",
      "[[1. 0.]\n",
      " [1. 2.]].\n",
      "\n"
     ]
    }
   ],
   "source": [
    "a = np.array([[0,1,0],[1,0,1]])\n",
    "b = np.array([[0,1],[1,0],[1,1]])\n",
    "rows1, cols1 = a.shape                    #Neat way to get rows and cols of an array\n",
    "rows2, cols2 = b.shape\n",
    "c = np.ones((rows1,cols2))\n",
    "for i in range(0,rows1):\n",
    "    for j in range(0,cols2):\n",
    "        summ = 0\n",
    "        for k in range(0,cols1):\n",
    "            summ += a[i][k]*b[k][j]\n",
    "        c[i][j] = summ\n",
    "\n",
    "print(f\"{a}\\nx\\n{b}\\n=\\n{c}.\\n\")       #result of matrix mult of bits1 and bits2"
   ]
  },
  {
   "cell_type": "markdown",
   "metadata": {},
   "source": [
    "As a segue to *while* loops... by using the break statement, *for* loops can be used to stop conditionally. This is sometimes convenient, when you want a loop to stop at an arbitrary point in the loop rather than the beginning or the end.\n",
    "\n",
    "In this example we would like to stop adding terms to the infinite sum when the terms get really small. \n",
    "\n",
    "$ \\large \\sum_{i=0}^{\\infty} \\frac{1}{i!} $\n"
   ]
  },
  {
   "cell_type": "code",
   "execution_count": 13,
   "metadata": {},
   "outputs": [
    {
     "name": "stdout",
     "output_type": "stream",
     "text": [
      "The sum = 2.71828180e+00 after a total of 11 iterations and a final term value of 0.00000028.\n",
      "\n"
     ]
    }
   ],
   "source": [
    "summ = 0\n",
    "term=0\n",
    "min_term = 1e-6        #let's stop adding if the term is less than this\n",
    "max_iterations = 100   #let's stop if we get to 100 terms\n",
    "for i in range(0,max_iterations):\n",
    "    term=1/factorial(i)\n",
    "    summ+=term\n",
    "    if term<min_term:\n",
    "        break\n",
    "print(f\"The sum = {summ:.8e} after a total of {i+1} iterations and a final term value of {term:.8f}.\\n\")    "
   ]
  },
  {
   "cell_type": "code",
   "execution_count": null,
   "metadata": {},
   "outputs": [],
   "source": []
  }
 ],
 "metadata": {
  "kernelspec": {
   "display_name": "Python 3",
   "language": "python",
   "name": "python3"
  },
  "language_info": {
   "codemirror_mode": {
    "name": "ipython",
    "version": 3
   },
   "file_extension": ".py",
   "mimetype": "text/x-python",
   "name": "python",
   "nbconvert_exporter": "python",
   "pygments_lexer": "ipython3",
   "version": "3.7.4"
  }
 },
 "nbformat": 4,
 "nbformat_minor": 4
}
